{
  "nbformat": 4,
  "nbformat_minor": 0,
  "metadata": {
    "colab": {
      "provenance": [],
      "collapsed_sections": [
        "4lzyjgD0elXb",
        "BljhfqfFen8v"
      ],
      "authorship_tag": "ABX9TyMptXxSnO3Lq7v1rwXiB3Yw",
      "include_colab_link": true
    },
    "kernelspec": {
      "name": "python3",
      "display_name": "Python 3"
    },
    "language_info": {
      "name": "python"
    }
  },
  "cells": [
    {
      "cell_type": "markdown",
      "metadata": {
        "id": "view-in-github",
        "colab_type": "text"
      },
      "source": [
        "<a href=\"https://colab.research.google.com/github/AlanRamirez777/Colab/blob/main/Proyecto_Final.ipynb\" target=\"_parent\"><img src=\"https://colab.research.google.com/assets/colab-badge.svg\" alt=\"Open In Colab\"/></a>"
      ]
    },
    {
      "cell_type": "markdown",
      "source": [
        "# Proyecto Final: Recordatorio y Envío de Felicitaciones de Cumpleaños\n",
        "## Alan Omar Ramírez Quiroga"
      ],
      "metadata": {
        "id": "WsTyi6DVcab0"
      }
    },
    {
      "cell_type": "code",
      "execution_count": 2,
      "metadata": {
        "id": "b4RU01PmeHUJ",
        "colab": {
          "base_uri": "https://localhost:8080/"
        },
        "outputId": "89ae0e3e-0f95-499f-ad1f-ff65d0b4055f"
      },
      "outputs": [
        {
          "output_type": "stream",
          "name": "stdout",
          "text": [
            "\u001b[2K     \u001b[90m━━━━━━━━━━━━━━━━━━━━━━━━━━━━━━━━━━━━━━━━\u001b[0m \u001b[32m44.3/44.3 kB\u001b[0m \u001b[31m1.3 MB/s\u001b[0m eta \u001b[36m0:00:00\u001b[0m\n",
            "\u001b[2K   \u001b[90m━━━━━━━━━━━━━━━━━━━━━━━━━━━━━━━━━━━━━━━━\u001b[0m \u001b[32m8.6/8.6 MB\u001b[0m \u001b[31m32.5 MB/s\u001b[0m eta \u001b[36m0:00:00\u001b[0m\n",
            "\u001b[2K   \u001b[90m━━━━━━━━━━━━━━━━━━━━━━━━━━━━━━━━━━━━━━━━\u001b[0m \u001b[32m6.9/6.9 MB\u001b[0m \u001b[31m83.3 MB/s\u001b[0m eta \u001b[36m0:00:00\u001b[0m\n",
            "\u001b[2K   \u001b[90m━━━━━━━━━━━━━━━━━━━━━━━━━━━━━━━━━━━━━━━━\u001b[0m \u001b[32m79.1/79.1 kB\u001b[0m \u001b[31m5.9 MB/s\u001b[0m eta \u001b[36m0:00:00\u001b[0m\n",
            "\u001b[?25h"
          ]
        }
      ],
      "source": [
        "!pip install -q streamlit"
      ]
    },
    {
      "cell_type": "markdown",
      "source": [
        "## Código"
      ],
      "metadata": {
        "id": "O5aG8LJ4coT-"
      }
    },
    {
      "cell_type": "code",
      "execution_count": 8,
      "metadata": {
        "colab": {
          "base_uri": "https://localhost:8080/"
        },
        "id": "5AOKRuFocQIH",
        "outputId": "ff9d0fa9-fddd-4546-d251-711272a491fd"
      },
      "outputs": [
        {
          "output_type": "stream",
          "name": "stdout",
          "text": [
            "Overwriting app.py\n"
          ]
        }
      ],
      "source": [
        "%%writefile app.py\n",
        "import streamlit as st\n",
        "from datetime import datetime, timedelta, timezone\n",
        "import time\n",
        "import csv\n",
        "import smtplib, ssl\n",
        "from numpy import random\n",
        "\n",
        "#--------------------------------------------------------------------------------------------------------------------------------------------------------------\n",
        "\n",
        "class EmailAdmin: # Esta clase \"EmailAdmin\" sirve para manejar el envío de datos\n",
        "\n",
        "  def __init__(self, port = 587, smtp_server = \"smtp.gmail.com\", sender_email = \"alanrcolab@gmail.com\", password = \"htlh nzio ricx slzc\") -> None: #Requiere el puerto, el servidor smtp, correo a usar y la contraseña\n",
        "    self.port = port\n",
        "    self.smtp_server = smtp_server\n",
        "    self.sender_email = sender_email\n",
        "    self.password = password\n",
        "    self.context = ssl.create_default_context()\n",
        "\n",
        "  def SendTo(self, receiver_email:str, message:str): #Envía el correo a un destinatario \"receiver_email\" con un mensaje \"message\"\n",
        "    with smtplib.SMTP(self.smtp_server, self.port) as server:\n",
        "      server.ehlo()\n",
        "      server.starttls(context=self.context)\n",
        "      server.ehlo()\n",
        "      server.login(self.sender_email, self.password)\n",
        "      server.sendmail(self.sender_email, receiver_email, message) #Envía el correo\n",
        "    time.sleep(0.5)\n",
        "\n",
        "baseEmailAdmin = EmailAdmin() # Creamos la instancia base para el envío de correos\n",
        "\n",
        "#--------------------------------------------------------------------------------------------------------------------------------------------------------------\n",
        "\n",
        "class Register: # Clase que administra una instancia de un recordatorio de cumpleaños con diversas configuraciones\n",
        "\n",
        "  def __init__(self, name: str, month: int, day: int, hour: int, minute: int, email: str, message: str) -> None: # Solicitamos los valores para identificar a la persona y su mensaje; nombre, fecha (month, day. hour, minute), correo electrónico y el mensaje personalizado\n",
        "    self.id = id\n",
        "    self.name = name\n",
        "    self.month = month\n",
        "    self.day = day\n",
        "    self.hour = hour\n",
        "    self.minute = minute\n",
        "    self.email = email\n",
        "    self.message = message\n",
        "\n",
        "  def Apply(self, isRandom: bool, listMsg = []): # Aplica las configuraciones del registro y las aplica para el front-end\n",
        "    self.isRandom = isRandom\n",
        "    self.listMsg = listMsg\n",
        "    with st.expander(self.name):\n",
        "      self.stEmail = st.write(f\"EMAIL: {self.email}\")\n",
        "      self.stDate = st.write(f\"FECHA: {self.month}/{self.day} {self.hour}:{self.minute}\")\n",
        "      self.stMessage = st.write(f\"MENSAJE: {self.message}\")\n",
        "      self.stColumns = st.columns(5)\n",
        "      with self.stColumns[0]: self.stC0 = st.empty()\n",
        "      with self.stColumns[1]: self.stC1 = st.empty()\n",
        "      with self.stColumns[2]: self.stC2 = st.empty()\n",
        "      with self.stColumns[3]: self.stC3 = st.empty()\n",
        "      with self.stColumns[4]: self.stC4 = st.empty()\n",
        "\n",
        "  def Step(self): # Función ejecutada luego de aplicar, representa un momento para actualizar los datos del contador descendente\n",
        "    self.stC0.write(\"Tiempo restante:\")\n",
        "    now = datetime.now(timezone(timedelta(hours=0)))\n",
        "    result = None\n",
        "    if now > datetime(now.year, self.month, self.day, self.hour, self.minute, tzinfo=timezone(timedelta(hours=-6))):\n",
        "      result = datetime(now.year+1, self.month, self.day, self.hour, self.minute, tzinfo=timezone(timedelta(hours=-6))) - now\n",
        "    else:\n",
        "      result = datetime(now.year, self.month, self.day, self.hour, self.minute, tzinfo=timezone(timedelta(hours=-6))) - now\n",
        "\n",
        "    self.stC1.metric(\"Días\", abs(result.days))\n",
        "    self.stC2.metric(\"Horas\", abs(int(result.seconds/(60*60))))\n",
        "    self.stC3.metric(\"Minutos\", abs(int(result.seconds/(60))%60))\n",
        "    self.stC4.metric(\"Segundos\", abs(result.seconds%60))\n",
        "\n",
        "    if result.total_seconds() <= 0.45:\n",
        "      baseEmailAdmin.SendTo(self.email, self.message if not self.isRandom else self.listMsg[random.randint(0, len(self.listMsg))])\n",
        "      st.success(f\"Mensaje enviado a {self.name}\")\n",
        "\n",
        "#--------------------------------------------------------------------------------------------------------------------------------------------------------------\n",
        "\n",
        "class Updatable: # Clase simplificada, la cual su único propósito es la ejecución de funciones en segundo plano\n",
        "\n",
        "  def __init__(self, time_update=0.1) -> None: # Se crea la instancia y se dá un tiempo de actualización\n",
        "    self.time_update = time_update\n",
        "    self.list_events = []\n",
        "\n",
        "  def Update(self): # Inicia la iteración de sí mismo para ejecutar las funciones\n",
        "    for i in self.list_events:\n",
        "      i()\n",
        "    time.sleep(self.time_update)\n",
        "    self.Update()\n",
        "\n",
        "  def AddToUpdate(self, event): # Añade una nueva función a ejecutar\n",
        "    self.list_events.append(event)\n",
        "\n",
        "baseUpdatable = Updatable() # Creamos una instancia base de la clase Updatable\n",
        "\n",
        "#--------------------------------------------------------------------------------------------------------------------------------------------------------------\n",
        "\n",
        "class MessageAdmin: # Clase que administra y mantiene la lista de mensajes , maneja el guardado y escrito del archivo correspondiente\n",
        "  FILE_NAME = \"messages.csv\" # Nombre del archio a manejar\n",
        "\n",
        "  def __init__(self) -> None: # Al crear la instancia se crea el archivo (si no existe) y obtenemos los datos del archivo\n",
        "    self.list_messages = []\n",
        "\n",
        "    try:\n",
        "      with open(self.FILE_NAME, \"x\"):\n",
        "        pass\n",
        "    except:\n",
        "      pass\n",
        "\n",
        "    self.LoadValues()\n",
        "\n",
        "  def LoadValues(self): # Función para obtener los datos del archivo y los guarda en \"self.list_messages\". En caso de ser un archivo vacío crea el diseño para guardarlo en archivo .csv\n",
        "    if not self.check_if_new():\n",
        "      with open(self.FILE_NAME, mode='r', newline='') as file:\n",
        "        reader = csv.DictReader(file)\n",
        "        for row in reader:\n",
        "          self.list_messages.append(row[\"messages\"])\n",
        "    else:\n",
        "      with open(self.FILE_NAME, mode='a', newline='') as file:\n",
        "        writer = csv.DictWriter(file, fieldnames=['messages'])\n",
        "        writer.writerow({'messages':'messages'})\n",
        "\n",
        "  def NewValue(self, value: str): # Agrega un nuevo mensaje a la lista y reescribe todos los valores en el archivo\n",
        "    self.list_messages.append(value)\n",
        "    self.WriteAllValues()\n",
        "\n",
        "  def WriteAllValues(self): # Escribe los valores actuales de la lista en el archivo (self.list_messages)\n",
        "    with open(self.FILE_NAME, mode='w', newline='') as file:\n",
        "      writer = csv.DictWriter(file, fieldnames=['messages'])\n",
        "      writer.writerow({'messages':'messages'})\n",
        "      for i in self.list_messages:\n",
        "        writer.writerow({'messages': i})\n",
        "\n",
        "  def DeleteValue(self, value: str): # Borra un valor de la lista y actualiza todo el archivo\n",
        "      try:\n",
        "        self.list_messages.remove(value)\n",
        "      except:\n",
        "        pass\n",
        "\n",
        "  def check_if_new(self) -> bool: # Devuelve True si el archivo es nuevo, False si no\n",
        "      with open(self.FILE_NAME, mode='r', newline='') as file:\n",
        "          if file.read() == '':\n",
        "              return True\n",
        "          else:\n",
        "              return False\n",
        "\n",
        "baseMessageAdmin = MessageAdmin() # Creamos una instancia base de \"MessageAdmin\"\n",
        "\n",
        "#--------------------------------------------------------------------------------------------------------------------------------------------------------------\n",
        "\n",
        "class RegisterAdmin: # Clase que administra y mantiene la lista de registros listta tipo \"Register\", maneja el guardado y escrito del archivo correspondiente\n",
        "  FILE_NAME = \"register.csv\" # Nombre del archivo a manejar\n",
        "\n",
        "  def __init__(self) -> None: # Al crear la instancia se crea el archivo (si no existe) y obtenemos los datos del archivo\n",
        "\n",
        "    self.list_register = []\n",
        "\n",
        "    try:\n",
        "      with open(self.FILE_NAME, \"x\"):\n",
        "        pass\n",
        "    except:\n",
        "      pass\n",
        "\n",
        "    self.LoadValues()\n",
        "\n",
        "  def LoadValues(self): # Función para obtener los datos del archivo y los guarda en \"self.list_register\". En caso de ser un archivo vacío crea el diseño para guardarlo en archivo .csv\n",
        "    if not self.check_if_new():\n",
        "      with open(self.FILE_NAME, mode='r', newline='') as file:\n",
        "        reader = csv.DictReader(file)\n",
        "        for row in reader:\n",
        "          self.list_register.append(Register(name=row[\"name\"], month=int(row[\"month\"]), day=int(row[\"day\"]), hour=int(row[\"hour\"]), minute=int(row[\"minute\"]), email=row[\"email\"], message=row[\"message\"]))\n",
        "    else:\n",
        "      with open(self.FILE_NAME, mode='a', newline='') as file:\n",
        "        writer = csv.DictWriter(file, fieldnames=['name', 'month', 'day', 'hour', 'minute', 'email', 'message'])\n",
        "        writer.writerow({'name': 'name', 'month': 'month', 'day': 'day', 'hour': 'hour', 'minute':'minute', 'email':'email', 'message':'message'})\n",
        "\n",
        "  def NewValue(self, register: Register): # Agrega un nuevo registro a la lista y reescribe todos los valores en el archivo\n",
        "    self.list_register.append(register)\n",
        "    self.WriteAllValues()\n",
        "\n",
        "  def WriteAllValues(self): # Escribe los valores actuales de la lista en el archivo (self.list_register)\n",
        "    with open(self.FILE_NAME, mode='w', newline='') as file:\n",
        "      writer = csv.DictWriter(file, fieldnames=['name', 'month', 'day', 'hour', 'minute', 'email', 'message'])\n",
        "      writer.writerow({'name': 'name', 'month': 'month', 'day': 'day', 'hour': 'hour', 'minute':'minute', 'email':'email', 'message':'message'})\n",
        "      for i in self.list_register:\n",
        "        writer.writerow({'name':i.name, 'month':i.month, 'day':i.day, 'hour':i.hour, 'minute':i.minute, 'email':i.email, 'message':i.message})\n",
        "\n",
        "  def UpdateValue(self, register:Register, newRegister: Register): # Obtiene un el registro a modificar y el registro modificado, reemplaza el valor en la lista y reescribe todo el archivo\n",
        "    for i in range(len(self.list_register)):\n",
        "      if register == self.list_register[i]:\n",
        "        self.list_register.insert(i, newRegister)\n",
        "        self.list_register.pop(i+1)\n",
        "        self.WriteAllValues()\n",
        "        return\n",
        "\n",
        "  def DeleteValue(self, register: Register): # Borra un valor de la lista y actualiza todo el archivo\n",
        "    for i in range(len(self.list_register)):\n",
        "      if register == self.list_register[i]:\n",
        "        self.list_register.pop(i)\n",
        "        self.WriteAllValues()\n",
        "        return\n",
        "\n",
        "  def check_if_new(self) -> bool: # Devuelve True si el archivo es nuevo, False si no\n",
        "      with open(self.FILE_NAME, mode='r', newline='') as file:\n",
        "          if file.read() == '':\n",
        "              return True\n",
        "          else:\n",
        "              return False\n",
        "\n",
        "  def Apply(self): # Aplica los cambios de la lista de registros listos para mostrar el front-end de cada uno de ellos, implementa la función \"Step\" de todos a la instancia Actualizable\n",
        "    for i in self.list_register:\n",
        "      if i.message != '--Aleatorio--':\n",
        "        i.Apply(False)\n",
        "      else:\n",
        "        i.Apply(True, baseMessageAdmin.list_messages)\n",
        "      baseUpdatable.AddToUpdate(i.Step)\n",
        "\n",
        "baseRegisterAdmin = RegisterAdmin() # Creamos una instancia de la clase \"RegisterAdmin\"\n",
        "\n",
        "#--------------------------------------------------------------------------------------------------------------------------------------------------------------\n",
        "\n",
        "#**************************************************************************************************************************************************************\n",
        "\n",
        "def GetRegister(): # Función del MAIN para mostrar el front-end del ingreso de un nuevo registro\n",
        "  st.subheader(\"--Cumpleañero--\")\n",
        "  stName, stEmail = st.columns(2)\n",
        "  name = stName.text_input(\"Nombre de la persona:\", placeholder=\"Necesario para añadir/actualizar/borrar una persona\")\n",
        "  email = stEmail.text_input(\"Correo electrónico:\")\n",
        "  birth = st.columns(4) # Apartado para obtener la fecha de cumpleaños\n",
        "  month = birth[0].number_input(\"Mes:\", step=1, min_value=1, max_value=12)\n",
        "  day = birth[1].number_input(\"Día:\", step=1, min_value=1, max_value=31)\n",
        "  hour = birth[2].number_input(\"Hora:\", step=1, min_value=0, max_value=23)\n",
        "  minute = birth[3].number_input(\"Minuto:\", step=1, min_value=0, max_value=59)\n",
        "\n",
        "  msg = st.empty()\n",
        "  msgValue = ''\n",
        "  #Definimos en el checkbox si hay mensajes, si los hay muestra una nueva opción aleatoria para un mensaje aleatorio\n",
        "  if len(baseMessageAdmin.list_messages) == 0:\n",
        "    msgValue = msg.selectbox(\"Hola\", baseMessageAdmin.list_messages)\n",
        "    st.warning(\"Agrega primero un mensaje\")\n",
        "  else:\n",
        "    a = ['--Aleatorio--']\n",
        "    a.extend(baseMessageAdmin.list_messages.copy())\n",
        "    msgValue = msg.selectbox(\"Mensaje\", a)\n",
        "\n",
        "  buttons = st.columns(3) # Creamos los botones para realizar el CRUD de los registros\n",
        "  with buttons[0]:\n",
        "    but0 = st.empty()\n",
        "  with buttons[1]:\n",
        "    but1 = st.empty()\n",
        "  with buttons[2]:\n",
        "    but2 = st.empty()\n",
        "\n",
        "  # El primer botón es el de \"Añadir\", añade un nuevo registro a la instan!ia base de \"RegisterAdmin\"\n",
        "  if but0.button(\"Añadir\", use_container_width=True, type='primary'):\n",
        "    if name!='':\n",
        "      founded = False\n",
        "      for i in baseRegisterAdmin.list_register:\n",
        "        if i.name==name:\n",
        "          st.warning(\"Nombre ya ocupado\")\n",
        "          break\n",
        "      if not founded:\n",
        "        baseRegisterAdmin.NewValue(Register(name, month, day, hour, minute, email, msgValue))\n",
        "    else:\n",
        "      st.warning(\"Nombre vacío\")\n",
        "  # El segundo botón es \"Actualizar\", la cual, por medio de su nombre busca y actualiza el registro correspondiente\n",
        "  if but1.button(\"Actualizar\", use_container_width=True, type='primary'):\n",
        "      if name!='':\n",
        "        index = -1\n",
        "        for i in range(len(baseRegisterAdmin.list_register)):\n",
        "          if baseRegisterAdmin.list_register[i].name == name:\n",
        "            index = i\n",
        "            break\n",
        "        if index != -1:\n",
        "          baseRegisterAdmin.UpdateValue(baseRegisterAdmin.list_register[index], Register(name, month, day, hour, minute, email, msgValue))\n",
        "        else:\n",
        "          st.warning(\"Persona no encontrada\")\n",
        "      else:\n",
        "        st.warning(\"Nombre vacío\")\n",
        "  # El tercer botón es \"Eliminar\", elimina el registro que coincida con el nombre dado\n",
        "  if but2.button(\"Eliminar\", use_container_width=True, type='primary'):\n",
        "    if name!='' :\n",
        "      founded = False\n",
        "      for i in baseRegisterAdmin.list_register:\n",
        "        if i.name==name:\n",
        "          baseRegisterAdmin.DeleteValue(i)\n",
        "          break\n",
        "      if not founded:\n",
        "        st.warning(\"Usuario no encontrado\")\n",
        "    else:\n",
        "      st.warning(\"Nombre vacío\")\n",
        "\n",
        "#**************************************************************************************************************************************************************\n",
        "\n",
        "def GetMessages(): # Método del MAIN para mostrar el front-end del manejo de mensajes\n",
        "  st.subheader(\"--Mensaje--\")\n",
        "\n",
        "  columns = st.columns(2) # La primera columnas es para el ingreso de un nuevo mensaje, la segunda columna es para la eliminación de un mensaje\n",
        "  # Creamos el campo y botón para el ingreso de un nuevo mensaje\n",
        "  with columns[0]:\n",
        "    message = st.text_area(\"Mensaje:\")\n",
        "    if st.button(\"-Agregar-\", use_container_width=True, type='primary'):\n",
        "      if message != '':\n",
        "        baseMessageAdmin.NewValue(f\"{message}\")\n",
        "      else:\n",
        "        st.warning(\"Campo(s) vacío(s)\")\n",
        "  # Crea el selectBox para selecionar el mensaje a eliminar y su respectivo botón\n",
        "  with columns[1]:\n",
        "    sel = st.empty()\n",
        "    butt = st.empty()\n",
        "    choice = sel.selectbox(\"A\", baseMessageAdmin.list_messages)\n",
        "    if butt.button(\"-Eliminar-\", use_container_width=True, type='primary'):\n",
        "      if choice !='':\n",
        "        baseMessageAdmin.DeleteValue(choice)\n",
        "      else:\n",
        "        st.warning(\"Seleccione un mensaje válido\")\n",
        "    choice = sel.selectbox(\"Mensaje a borrar:\", baseMessageAdmin.list_messages)\n",
        "\n",
        "#**************************************************************************************************************************************************************\n",
        "\n",
        "## --MAIN--\n",
        "# Header introductorio de la página\n",
        "st.header(\"SISTEMA AUTOMÁTICO PARA FELICITACIONES\")\n",
        "# Mostramos el front-end del manejo de mensajes\n",
        "GetMessages()\n",
        "# Mostramos el front-end del manejo de los registros\n",
        "GetRegister()\n",
        "# Usamos la función \"Apply\" para mostrar el front-end de los registros guardados\n",
        "baseRegisterAdmin.Apply()\n",
        "# Iniciamos con la iteración infinita asíncrona de la instancia base Actualizable\n",
        "baseUpdatable.Update()\n",
        "\n",
        "# Al apretar un botón el ciclo del --MAIN-- se repite, guardando o eliminando los nuevos valores en el archivo para poder conseguir manejar bien los datos sin perderlos o corromperlos"
      ]
    },
    {
      "cell_type": "markdown",
      "metadata": {
        "id": "4lzyjgD0elXb"
      },
      "source": [
        "## Install localtunnel"
      ]
    },
    {
      "cell_type": "code",
      "execution_count": 9,
      "metadata": {
        "colab": {
          "base_uri": "https://localhost:8080/"
        },
        "id": "f5Vqg7P6eoVu",
        "outputId": "2ecd6907-91d5-4f3e-86d7-03a069d47f59"
      },
      "outputs": [
        {
          "output_type": "stream",
          "name": "stdout",
          "text": [
            "\u001b[1G\u001b[0K⠙\u001b[1G\u001b[0K⠹\u001b[1G\u001b[0K⠸\u001b[1G\u001b[0K⠼\u001b[1G\u001b[0K⠴\u001b[1G\u001b[0K\n",
            "up to date, audited 23 packages in 891ms\n",
            "\u001b[1G\u001b[0K⠴\u001b[1G\u001b[0K\n",
            "\u001b[1G\u001b[0K⠴\u001b[1G\u001b[0K3 packages are looking for funding\n",
            "\u001b[1G\u001b[0K⠴\u001b[1G\u001b[0K  run `npm fund` for details\n",
            "\u001b[1G\u001b[0K⠴\u001b[1G\u001b[0K\n",
            "2 \u001b[33m\u001b[1mmoderate\u001b[22m\u001b[39m severity vulnerabilities\n",
            "\n",
            "To address all issues (including breaking changes), run:\n",
            "  npm audit fix --force\n",
            "\n",
            "Run `npm audit` for details.\n",
            "\u001b[1G\u001b[0K⠦\u001b[1G\u001b[0K"
          ]
        }
      ],
      "source": [
        "!npm install localtunnel"
      ]
    },
    {
      "cell_type": "markdown",
      "metadata": {
        "id": "BljhfqfFen8v"
      },
      "source": [
        "## Run streamlit in background"
      ]
    },
    {
      "cell_type": "code",
      "execution_count": 10,
      "metadata": {
        "id": "amBIGQx4etJR"
      },
      "outputs": [],
      "source": [
        "!streamlit run /content/app.py &>/content/logs.txt &"
      ]
    },
    {
      "cell_type": "markdown",
      "metadata": {
        "id": "uboRQqlOetVr"
      },
      "source": [
        "## Expose the port 8501\n",
        "Then just click in the `url` showed.\n",
        "\n",
        "A `log.txt`file will be created."
      ]
    },
    {
      "cell_type": "code",
      "execution_count": 11,
      "metadata": {
        "colab": {
          "base_uri": "https://localhost:8080/"
        },
        "id": "clLbA2Xsezta",
        "outputId": "f15926d0-2b08-4d2a-8660-6aad5ed29083"
      },
      "outputs": [
        {
          "output_type": "stream",
          "name": "stdout",
          "text": [
            "\u001b[1G\u001b[0K⠙\u001b[1G\u001b[0Kyour url is: https://nine-parrots-grin.loca.lt\n",
            "^C\n"
          ]
        }
      ],
      "source": [
        "!npx localtunnel --port 8501"
      ]
    }
  ]
}
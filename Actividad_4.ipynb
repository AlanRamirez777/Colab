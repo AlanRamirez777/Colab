{
  "cells": [
    {
      "cell_type": "markdown",
      "metadata": {
        "id": "view-in-github",
        "colab_type": "text"
      },
      "source": [
        "<a href=\"https://colab.research.google.com/github/AlanRamirez777/Colab/blob/main/Actividad_4.ipynb\" target=\"_parent\"><img src=\"https://colab.research.google.com/assets/colab-badge.svg\" alt=\"Open In Colab\"/></a>"
      ]
    },
    {
      "cell_type": "markdown",
      "metadata": {
        "id": "iXo7_-kFuU2D"
      },
      "source": [
        "# Actividad 4\n",
        "## Alan Omar Ramírez Quiroga"
      ]
    },
    {
      "cell_type": "code",
      "execution_count": null,
      "metadata": {
        "id": "M1YFjXs2vi0K"
      },
      "outputs": [],
      "source": [
        "!pip install -q streamlit"
      ]
    },
    {
      "cell_type": "code",
      "execution_count": null,
      "metadata": {
        "id": "Cego8lpQvj76"
      },
      "outputs": [],
      "source": []
    },
    {
      "cell_type": "markdown",
      "metadata": {
        "id": "UOkyXwtFvm4S"
      },
      "source": [
        "## Código"
      ]
    },
    {
      "cell_type": "code",
      "execution_count": null,
      "metadata": {
        "colab": {
          "base_uri": "https://localhost:8080/"
        },
        "id": "43YKJtHnvpMy",
        "outputId": "f8daf3ed-d6ee-46d6-e3fb-d39f9e4c6fe4"
      },
      "outputs": [
        {
          "output_type": "stream",
          "name": "stdout",
          "text": [
            "Overwriting app.py\n"
          ]
        }
      ],
      "source": [
        "# @title Default title text\n",
        "%%writefile app.py\n",
        "from random import randint\n",
        "import streamlit as st\n",
        "import pandas as pd\n",
        "import numpy as np\n",
        "import datetime\n",
        "\n",
        "\n",
        "class User:\n",
        "    def __init__(self, name, age, altura, peso, shift):\n",
        "        self.shift = shift\n",
        "        self.name = self.encrypt(name)\n",
        "        self.age = self.encrypt(str(age))\n",
        "        self.altura = self.encrypt(str(altura))\n",
        "        self.peso = self.encrypt(str(peso))\n",
        "\n",
        "    def encrypt(self, text):\n",
        "        encrypted = ''\n",
        "        for char in text:\n",
        "            if char.isalpha():\n",
        "                shift = self.shift\n",
        "                if char.islower():\n",
        "                    encrypted += chr((ord(char) - 97 + shift) % 26 + 97)\n",
        "                else:\n",
        "                    encrypted += chr((ord(char) - 65 + shift) % 26 + 65)\n",
        "            elif char.isdigit():\n",
        "                encrypted += chr((ord(char) - 48 + self.shift) % 10 + 48)\n",
        "            else:\n",
        "                encrypted += char\n",
        "        return encrypted\n",
        "\n",
        "    def decrypt(self, text):\n",
        "        decrypted = ''\n",
        "        for char in text:\n",
        "            if char.isalpha():\n",
        "                shift = self.shift\n",
        "                if char.islower():\n",
        "                    decrypted += chr((ord(char) - 97 - shift) % 26 + 97)\n",
        "                else:\n",
        "                    decrypted += chr((ord(char) - 65 - shift) % 26 + 65)\n",
        "            elif char.isdigit():\n",
        "                decrypted += chr((ord(char) - 48 - self.shift) % 10 + 48)\n",
        "            else:\n",
        "                decrypted += char\n",
        "        return decrypted\n",
        "      ## 1-. Name, 2-. Age, 3-. Altura, 4-. Peso\n",
        "    def get_decrypted(self):\n",
        "        return f\"{self.decrypt(self.name)}-{self.decrypt(self.age)}-{self.decrypt(self.altura)}-{self.decrypt(self.peso)}\"\n",
        "\n",
        "# CRUD Operations\n",
        "class CRUDSystem:\n",
        "\n",
        "    def LoadData():\n",
        "        try:\n",
        "            with open(fileName, \"r\") as f:\n",
        "                stringData = f.read()\n",
        "                v1 = stringData.split(\"*\")\n",
        "                currentShift = int(v1[0])\n",
        "                crud = CRUDSystem(currentShift)\n",
        "                users = {v1[1]}\n",
        "                if v1[1].find(\"_\"):\n",
        "                    users = v1[1].split(\"_\")\n",
        "                if v1[1] != \"\":\n",
        "                    for i in users:\n",
        "                        datos = i.split(\"-\")\n",
        "                        crud.create_user(name=datos[0], age=datos[1], altura=datos[2], peso=datos[3])\n",
        "                return crud\n",
        "        except FileNotFoundError:\n",
        "            with open(fileName, \"w\") as o:\n",
        "                currentShift = randint(0, 10)\n",
        "                o.write(f\"{currentShift}*\")\n",
        "            return CRUDSystem(currentShift)\n",
        "\n",
        "    def SaveData(self):\n",
        "        with open(fileName, \"w\") as f:\n",
        "            f.write(f\"{baseCrud.shift}*{baseCrud.read_users()}\")\n",
        "        st.rerun()\n",
        "\n",
        "    def __init__(self, shift):\n",
        "        self.users = []\n",
        "        self.shift = shift\n",
        "\n",
        "    def create_user(self, name, altura, peso, age):\n",
        "        user = User(name, age, altura, peso, self.shift)\n",
        "        self.users.append(user)\n",
        "        #print(f\"User {name} created successfully.\")\n",
        "\n",
        "    def read_users(self):\n",
        "        res = \"\"\n",
        "        if(len(self.users)>0):\n",
        "            for index in range(len(self.users)):\n",
        "                if index==0:\n",
        "                    res = self.users[index].get_decrypted()\n",
        "                else:\n",
        "                    res += f\"_{self.users[index].get_decrypted()}\"\n",
        "        return res\n",
        "\n",
        "\n",
        "    def update_user(self, index, name=None, age=None, altura=None, peso=None):\n",
        "        if 0 <= index < len(self.users):\n",
        "            user = self.users[index]\n",
        "            if name:\n",
        "                user.name = user.encrypt(name)\n",
        "            if age:\n",
        "                user.age = user.encrypt(str(age))\n",
        "            if altura:\n",
        "                user.altura = user.encrypt(str(altura))\n",
        "            if peso:\n",
        "                user.peso = user.encrypt(str(peso))\n",
        "\n",
        "    def delete_user(self, index):\n",
        "        if 0 <= index < len(self.users):\n",
        "            del self.users[index]\n",
        "\n",
        "def show_tablas():\n",
        "    users = baseCrud.read_users().split(\"_\")\n",
        "    if baseCrud.read_users() != \"\":\n",
        "        st.header(\"Datos:\")\n",
        "        for user in range(len(users)):\n",
        "            data = users[user].split(\"-\")\n",
        "            if user==0:\n",
        "                st.divider()\n",
        "\n",
        "            with st.expander(f\"### Usuario {user+1}:\"):\n",
        "                st.write(f\"Nombre: {data[0]}\")\n",
        "                st.write(f\"Edad: {data[1]}\")\n",
        "                st.write(f\"Altura: {data[2]}\")\n",
        "                st.write(f\"Peso: {data[3]}\")\n",
        "\n",
        "                name2 = st.text_input(\"Nombre: \", data[0], key=f\"name{user}\")\n",
        "                age2 = st.number_input(\"Edad: \", value=float(data[1]), key=f\"age{user}\")\n",
        "                altura2 = st.number_input(\"Altura: \", value=float(data[2]), key=f\"altura{user}\")\n",
        "                peso2 = st.number_input(\"Peso: \", value=float(data[3]), key=f\"peso{user}\")\n",
        "\n",
        "                #Botón actualizar\n",
        "                if st.button(\"Actualzar usuario\", key=f\"ActUs{user}\"):\n",
        "                    baseCrud.update_user(user, name2, age2, altura2, peso2)\n",
        "                    baseCrud.SaveData()\n",
        "\n",
        "                #Botón eliminar\n",
        "                if st.button(\"Eliminar usuario\", key=f\"EliUs{user}\"):\n",
        "                    baseCrud.delete_user(user)\n",
        "                    baseCrud.SaveData()\n",
        "\n",
        "            st.divider()\n",
        "    else:\n",
        "        st.write(\"No hay datos existentes\")\n",
        "        st.divider()\n",
        "\n",
        "##File arguments\n",
        "fileName = \"/content/Data.txt\"\n",
        "baseCrud: CRUDSystem;\n",
        "\n",
        "##---MAIN---\n",
        "baseCrud = CRUDSystem.LoadData();\n",
        "st.title(\"CRUD Users\")\n",
        "st.header(\"Agregar nuevo Usuario:\")\n",
        "name = st.text_input(\"Nombre: \")\n",
        "age = st.number_input(\"Edad: \")\n",
        "altura = st.number_input(\"Altura: \")\n",
        "peso = st.number_input(\"Peso: \")\n",
        "if st.button(\"Agregar usuario\"):\n",
        "    baseCrud.create_user(name, altura, peso, age)\n",
        "    baseCrud.SaveData()\n",
        "show_tablas()"
      ]
    },
    {
      "cell_type": "code",
      "execution_count": null,
      "metadata": {
        "colab": {
          "base_uri": "https://localhost:8080/",
          "height": 211
        },
        "id": "EYUU3AJGk_o7",
        "outputId": "45b7b058-533b-4076-94ba-de97d965a8e8"
      },
      "outputs": [
        {
          "output_type": "error",
          "ename": "FileNotFoundError",
          "evalue": "[Errno 2] No such file or directory: '/content/Data.txt'",
          "traceback": [
            "\u001b[0;31m---------------------------------------------------------------------------\u001b[0m",
            "\u001b[0;31mFileNotFoundError\u001b[0m                         Traceback (most recent call last)",
            "\u001b[0;32m<ipython-input-4-864415c7cdf7>\u001b[0m in \u001b[0;36m<cell line: 1>\u001b[0;34m()\u001b[0m\n\u001b[0;32m----> 1\u001b[0;31m \u001b[0;32mwith\u001b[0m \u001b[0mopen\u001b[0m\u001b[0;34m(\u001b[0m\u001b[0;34m\"/content/Data.txt\"\u001b[0m\u001b[0;34m)\u001b[0m \u001b[0;32mas\u001b[0m \u001b[0mf\u001b[0m\u001b[0;34m:\u001b[0m\u001b[0;34m\u001b[0m\u001b[0;34m\u001b[0m\u001b[0m\n\u001b[0m\u001b[1;32m      2\u001b[0m   \u001b[0mv\u001b[0m \u001b[0;34m=\u001b[0m \u001b[0mf\u001b[0m\u001b[0;34m.\u001b[0m\u001b[0mread\u001b[0m\u001b[0;34m(\u001b[0m\u001b[0;34m)\u001b[0m\u001b[0;34m.\u001b[0m\u001b[0msplit\u001b[0m\u001b[0;34m(\u001b[0m\u001b[0;34m\"*\"\u001b[0m\u001b[0;34m)\u001b[0m\u001b[0;34m\u001b[0m\u001b[0;34m\u001b[0m\u001b[0m\n\u001b[1;32m      3\u001b[0m   \u001b[0ma\u001b[0m \u001b[0;34m=\u001b[0m \u001b[0mv\u001b[0m\u001b[0;34m[\u001b[0m\u001b[0;36m1\u001b[0m\u001b[0;34m]\u001b[0m\u001b[0;34m;\u001b[0m\u001b[0;34m\u001b[0m\u001b[0;34m\u001b[0m\u001b[0m\n\u001b[1;32m      4\u001b[0m   \u001b[0mprint\u001b[0m\u001b[0;34m(\u001b[0m\u001b[0mv\u001b[0m\u001b[0;34m)\u001b[0m\u001b[0;34m\u001b[0m\u001b[0;34m\u001b[0m\u001b[0m\n\u001b[1;32m      5\u001b[0m   \u001b[0;32mif\u001b[0m \u001b[0ma\u001b[0m\u001b[0;34m!=\u001b[0m\u001b[0;34m\"\"\u001b[0m\u001b[0;34m:\u001b[0m\u001b[0;34m\u001b[0m\u001b[0;34m\u001b[0m\u001b[0m\n",
            "\u001b[0;31mFileNotFoundError\u001b[0m: [Errno 2] No such file or directory: '/content/Data.txt'"
          ]
        }
      ],
      "source": [
        "with open(\"/content/Data.txt\") as f:\n",
        "  v = f.read().split(\"*\")\n",
        "  a = v[1];\n",
        "  print(v)\n",
        "  if a!=\"\":\n",
        "    print(\"Cawonga\")"
      ]
    },
    {
      "cell_type": "markdown",
      "metadata": {
        "id": "PNjquzOLv8eZ"
      },
      "source": [
        "## Install localtunel"
      ]
    },
    {
      "cell_type": "code",
      "execution_count": null,
      "metadata": {
        "colab": {
          "base_uri": "https://localhost:8080/"
        },
        "id": "0_8PcAkTwAO5",
        "outputId": "882d0b17-21dd-4c87-9691-826a60bcc55b"
      },
      "outputs": [
        {
          "output_type": "stream",
          "name": "stdout",
          "text": [
            "\u001b[K\u001b[?25h\n",
            "added 22 packages, and audited 23 packages in 1s\n",
            "\n",
            "3 packages are looking for funding\n",
            "  run `npm fund` for details\n",
            "\n",
            "2 \u001b[33m\u001b[1mmoderate\u001b[22m\u001b[39m severity vulnerabilities\n",
            "\n",
            "To address all issues, run:\n",
            "  npm audit fix\n",
            "\n",
            "Run `npm audit` for details.\n"
          ]
        }
      ],
      "source": [
        "!npm install localtunnel"
      ]
    },
    {
      "cell_type": "markdown",
      "metadata": {
        "id": "28iX1gm9wDch"
      },
      "source": [
        "## Run streamlit in background"
      ]
    },
    {
      "cell_type": "code",
      "execution_count": null,
      "metadata": {
        "id": "BOj4uFgzwGjZ"
      },
      "outputs": [],
      "source": [
        "!streamlit run /content/app.py &>/content/logs.txt &"
      ]
    },
    {
      "cell_type": "markdown",
      "metadata": {
        "id": "gt_JgM9PwLBZ"
      },
      "source": [
        "## Expose the port 8501\n",
        "Then just click in the `url` showed.\n",
        "\n",
        "A `log.txt`file will be created."
      ]
    },
    {
      "cell_type": "code",
      "execution_count": null,
      "metadata": {
        "colab": {
          "background_save": true,
          "base_uri": "https://localhost:8080/"
        },
        "id": "-UOdX7RQwOiZ",
        "outputId": "53f4a24a-851a-4dbf-a8f8-65438e1dee58"
      },
      "outputs": [
        {
          "output_type": "stream",
          "name": "stdout",
          "text": [
            "your url is: https://major-bobcats-call.loca.lt\n"
          ]
        }
      ],
      "source": [
        "!npx localtunnel --port 8501"
      ]
    }
  ],
  "metadata": {
    "colab": {
      "provenance": [],
      "authorship_tag": "ABX9TyPCNpj4IiRrYW/7tgjFP9gy",
      "include_colab_link": true
    },
    "kernelspec": {
      "display_name": "Python 3",
      "name": "python3"
    },
    "language_info": {
      "name": "python"
    }
  },
  "nbformat": 4,
  "nbformat_minor": 0
}